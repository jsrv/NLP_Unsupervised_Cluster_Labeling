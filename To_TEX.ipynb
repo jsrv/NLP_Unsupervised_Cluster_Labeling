{
 "cells": [
  {
   "cell_type": "code",
   "execution_count": 2,
   "metadata": {},
   "outputs": [],
   "source": [
    "import pandas as pd"
   ]
  },
  {
   "cell_type": "code",
   "execution_count": 29,
   "metadata": {},
   "outputs": [],
   "source": [
    "A21 = pd.read_csv('WordSets/df_NLP_21a.csv',header=None)\n",
    "A21 = A21.fillna('None')"
   ]
  },
  {
   "cell_type": "code",
   "execution_count": 28,
   "metadata": {},
   "outputs": [
    {
     "name": "stdout",
     "output_type": "stream",
     "text": [
      "education children students teachers learning schools teacher school child kids\n",
      "people years world thing None time life back make day\n",
      "playing sounds music sound games video play game song hear\n",
      "climate energy planet carbon water earth years mars oil air\n",
      "information internet digital online people google media phone data web\n",
      "infected epidemic vaccines disease malaria vaccine virus polio hiv flu\n",
      "compassion happiness people social human life love good feel god\n",
      "language laughter english stories books words book word read film\n",
      "animals species oceans ocean water coral fish boat sea ice\n",
      "particles universe physics planets theory light space stars earth black\n",
      "streets cities street public urban city cars york car map\n",
      "flowers poetry pollen flower poems paper bees poem soap bee\n",
      "countries percent country dollars people africa global world money years\n",
      "patients disease medical patient cancer health cells blood heart care\n",
      "consciousness neurons robots brains memory brain robot cells body arm\n",
      "political democracy violence country people states police rights power war\n",
      "bacteria species animals humans human genes cells gene cell dna\n",
      "agriculture farmers eating plant bread food feed meat farm eat\n",
      "architecture buildings designers building project design museum space made art\n",
      "gender female women girls woman black girl men sex gay\n",
      "people things thing world years None time make kind lot\n"
     ]
    }
   ],
   "source": [
    "\n",
    "for i in A21:\n",
    "    i = sorted(i, key=len, reverse=True)\n",
    "    print(*i,sep=' ')"
   ]
  },
  {
   "cell_type": "code",
   "execution_count": 32,
   "metadata": {},
   "outputs": [
    {
     "name": "stdout",
     "output_type": "stream",
     "text": [
      "\\begin{tabular}{lllllllllll}\n",
      "\\toprule\n",
      "0  &      kids &    school &     children &      students &  education &   teachers &     learning &        schools &      child &   teacher \\\\\n",
      "1  &      None &    people &         time &          life &      years &        day &         back &          world &      thing &      make \\\\\n",
      "2  &     music &      play &        sound &          game &      games &       song &        video &        playing &       hear &    sounds \\\\\n",
      "3  &     water &    energy &        earth &        planet &    climate &     carbon &        years &            oil &        air &      mars \\\\\n",
      "4  &      data &  internet &  information &        online &      media &      phone &      digital &         people &     google &       web \\\\\n",
      "5  &     virus &       hiv &      disease &           flu &    malaria &    vaccine &        polio &       infected &   epidemic &  vaccines \\\\\n",
      "6  &    people &     human &       social &          life &       love &       good &    happiness &     compassion &       feel &       god \\\\\n",
      "7  &  language &     books &     laughter &       english &       book &      words &         word &           read &    stories &      film \\\\\n",
      "8  &     ocean &      fish &          sea &       animals &      water &    species &         boat &          coral &     oceans &       ice \\\\\n",
      "9  &  universe &     light &        space &         stars &     theory &    physics &        earth &        planets &  particles &     black \\\\\n",
      "10 &      city &    cities &          car &          cars &      urban &     street &         york &         public &        map &   streets \\\\\n",
      "11 &      bees &      poem &       poetry &           bee &       soap &      poems &       pollen &          paper &    flowers &    flower \\\\\n",
      "12 &    people &     world &      percent &     countries &      money &    country &        years &        dollars &     africa &    global \\\\\n",
      "13 &    cancer &    health &     patients &         cells &    disease &    medical &        blood &           care &    patient &     heart \\\\\n",
      "14 &     brain &     robot &       robots &          body &    neurons &     brains &       memory &  consciousness &      cells &       arm \\\\\n",
      "15 &       war &    people &    political &         power &    country &  democracy &     violence &         states &     police &    rights \\\\\n",
      "16 &       dna &   species &      animals &         human &      genes &       gene &     bacteria &          cells &       cell &    humans \\\\\n",
      "17 &      food &       eat &      farmers &         plant &       feed &      bread &  agriculture &         eating &       meat &      farm \\\\\n",
      "18 &    design &       art &     building &  architecture &    project &      space &    buildings &      designers &     museum &      made \\\\\n",
      "19 &     women &       men &        girls &         woman &        sex &      black &       gender &           girl &        gay &    female \\\\\n",
      "20 &      None &    people &       things &          time &       make &      thing &        world &          years &       kind &       lot \\\\\n",
      "\\bottomrule\n",
      "\\end{tabular}\n",
      "\n"
     ]
    }
   ],
   "source": [
    "print(A21.to_latex(header=False))"
   ]
  },
  {
   "cell_type": "code",
   "execution_count": null,
   "metadata": {},
   "outputs": [],
   "source": []
  }
 ],
 "metadata": {
  "kernelspec": {
   "display_name": "Python 3",
   "language": "python",
   "name": "python3"
  },
  "language_info": {
   "codemirror_mode": {
    "name": "ipython",
    "version": 3
   },
   "file_extension": ".py",
   "mimetype": "text/x-python",
   "name": "python",
   "nbconvert_exporter": "python",
   "pygments_lexer": "ipython3",
   "version": "3.6.3"
  }
 },
 "nbformat": 4,
 "nbformat_minor": 2
}
