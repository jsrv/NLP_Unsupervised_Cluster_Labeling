{
 "cells": [
  {
   "cell_type": "code",
   "execution_count": 1,
   "metadata": {
    "collapsed": true
   },
   "outputs": [],
   "source": [
    "import numpy as np\n",
    "import scipy.linalg as la\n",
    "import matplotlib.pyplot as plt\n",
    "from sklearn.cluster import KMeans\n",
    "# sklearn.feature_extraction.text.CountVectorizer"
   ]
  },
  {
   "cell_type": "markdown",
   "metadata": {},
   "source": [
    "### Test"
   ]
  },
  {
   "cell_type": "code",
   "execution_count": 2,
   "metadata": {
    "collapsed": false
   },
   "outputs": [
    {
     "name": "stdout",
     "output_type": "stream",
     "text": [
      "[[ 0.8673234   0.43142681]\n",
      " [ 0.35157094  0.55674524]]\n"
     ]
    }
   ],
   "source": [
    "X = np.random.random((50,2))\n",
    "kmeans = KMeans(n_clusters=2, random_state=0).fit(X)\n",
    "centers = kmeans.cluster_centers_\n",
    "print(centers)"
   ]
  },
  {
   "cell_type": "code",
   "execution_count": 3,
   "metadata": {
    "collapsed": false
   },
   "outputs": [],
   "source": [
    "X = np.hstack((X,kmeans.labels_[:,None]))"
   ]
  },
  {
   "cell_type": "code",
   "execution_count": 4,
   "metadata": {
    "collapsed": false
   },
   "outputs": [
    {
     "data": {
      "image/png": "[encoded data removed]",
      "text/plain": [
       "<matplotlib.figure.Figure at 0x1169d3908>"
      ]
     },
     "metadata": {},
     "output_type": "display_data"
    }
   ],
   "source": [
    "plt.plot(X[X[:,-1]==0][:,0],X[X[:,-1]==0][:,1],'.')\n",
    "plt.plot(X[X[:,-1]==1][:,0],X[X[:,-1]==1][:,1],'.')\n",
    "plt.plot(centers[0,0],centers[0,1],'+',color='tab:blue',ms=10)\n",
    "plt.plot(centers[1,0],centers[1,1],'+',color='tab:orange',ms=10)\n",
    "plt.show()"
   ]
  },
  {
   "cell_type": "markdown",
   "metadata": {},
   "source": [
    "## Bisecting KMeans"
   ]
  },
  {
   "cell_type": "code",
   "execution_count": 5,
   "metadata": {
    "collapsed": true
   },
   "outputs": [],
   "source": [
    "def calc_distances(data,centroids,dist,n):\n",
    "    '''n - list length 2, indicies of clusters that need distances calculated?'''\n",
    "    i = n[0]\n",
    "    j = n[1]\n",
    "    new_dist1 = np.sum(la.norm(data[data[:,-1]==i][:,:-1] - centroids[i], axis=1))\n",
    "    new_dist2 = np.sum(la.norm(data[data[:,-1]==j][:,:-1] - centroids[j], axis=1))\n",
    "    dist[i] = new_dist1\n",
    "    dist[j] = new_dist2\n",
    "    #return nd-array distances\n",
    "    return dist"
   ]
  },
  {
   "cell_type": "code",
   "execution_count": 27,
   "metadata": {
    "collapsed": true
   },
   "outputs": [],
   "source": [
    "def bisecting_kmeans(data, k):\n",
    "    '''\n",
    "    Input:\n",
    "            Data to be classified in array format\n",
    "        k:\n",
    "            Number of centroids\n",
    "    returns centers and labels for data\n",
    "    '''\n",
    "    \n",
    "    # Get initial 2 clusters\n",
    "    kmeans = KMeans(n_clusters=2).fit(data)\n",
    "    centers = kmeans.cluster_centers_\n",
    "    \n",
    "    # Add cluster number to end of data? (if rows correspond to data points)\n",
    "    data = np.hstack((data,kmeans.labels_[:,None]))\n",
    "    n = [0,1]\n",
    "    distances = np.zeros(k)\n",
    "    for i in range(k-2):\n",
    "        # Calculate distances\n",
    "        distances = calc_distances(data,centers,distances,n)\n",
    "        \n",
    "        # choose which cluster to split (the one with largest distances)\n",
    "        index = np.argmax(distances)\n",
    "        \n",
    "        # split the cluster\n",
    "        kmeans = KMeans(n_clusters=2).fit(data[data[:,-1] == index][:,:-1])\n",
    "        centers_new = kmeans.cluster_centers_\n",
    "        \n",
    "        # Update centers saved\n",
    "        centers[index] = np.copy(centers_new[0])\n",
    "        centers = np.vstack((centers,centers_new[1]))\n",
    "        \n",
    "        # Mask new labels\n",
    "        labels = np.copy(kmeans.labels_)\n",
    "        labels[labels == 1] = i + 2 # want this to be the # of centers before the split\n",
    "        labels[labels == 0] = index\n",
    "        \n",
    "        # Update labels\n",
    "        data[:,-1][data[:,-1] == index] = labels\n",
    "        n = [index, i+2]\n",
    "        \n",
    "    return centers, data[:,-1]"
   ]
  },
  {
   "cell_type": "code",
   "execution_count": 46,
   "metadata": {
    "collapsed": false
   },
   "outputs": [],
   "source": [
    "n_clusters = 5\n",
    "X2 = np.random.random((100,2))\n",
    "centers, labels = bisecting_kmeans(X2, n_clusters)\n",
    "X2 = np.hstack((X2,labels[:,None]))"
   ]
  },
  {
   "cell_type": "code",
   "execution_count": 47,
   "metadata": {
    "collapsed": false
   },
   "outputs": [
    {
     "data": {
      "text/plain": [
       "array([ 2.,  4.,  1.,  4.,  4.,  3.,  2.,  3.,  1.,  2.,  1.,  3.,  3.,\n",
       "        3.,  1.,  3.,  1.,  0.,  3.,  0.,  0.,  2.,  2.,  1.,  3.,  4.,\n",
       "        2.,  1.,  1.,  3.,  3.,  0.,  1.,  0.,  1.,  1.,  2.,  0.,  0.,\n",
       "        4.,  3.,  0.,  0.,  3.,  1.,  3.,  0.,  2.,  3.,  1.,  1.,  1.,\n",
       "        1.,  2.,  2.,  2.,  0.,  4.,  0.,  4.,  3.,  2.,  4.,  1.,  2.,\n",
       "        0.,  1.,  0.,  2.,  0.,  0.,  3.,  2.,  2.,  1.,  0.,  0.,  0.,\n",
       "        1.,  0.,  3.,  2.,  0.,  4.,  1.,  4.,  1.,  3.,  0.,  3.,  0.,\n",
       "        3.,  1.,  1.,  3.,  1.,  1.,  0.,  4.,  1.])"
      ]
     },
     "execution_count": 47,
     "metadata": {},
     "output_type": "execute_result"
    }
   ],
   "source": [
    "labels"
   ]
  },
  {
   "cell_type": "code",
   "execution_count": 49,
   "metadata": {
    "collapsed": false
   },
   "outputs": [
    {
     "data": {
      "image/png": "[encoded data removed]",
      "text/plain": [
       "<matplotlib.figure.Figure at 0x116b45a58>"
      ]
     },
     "metadata": {},
     "output_type": "display_data"
    }
   ],
   "source": [
    "Colors = ['blue','orange','green','purple','red']\n",
    "for i in range(n_clusters):\n",
    "    plt.plot(X2[X2[:,-1]==i][:,0],X2[X2[:,-1]==i][:,1],'.',color='tab:'+Colors[i])\n",
    "    plt.plot(centers[i,0],centers[i,1],'+',color='tab:'+Colors[i],ms=10)\n",
    "plt.show()"
   ]
  },
  {
   "cell_type": "code",
   "execution_count": 124,
   "metadata": {
    "collapsed": false
   },
   "outputs": [
    {
     "name": "stdout",
     "output_type": "stream",
     "text": [
      "[]\n"
     ]
    }
   ],
   "source": [
    "print(X2[X2[:,-1]==1][:,1])"
   ]
  },
  {
   "cell_type": "code",
   "execution_count": 82,
   "metadata": {
    "collapsed": false
   },
   "outputs": [
    {
     "name": "stdout",
     "output_type": "stream",
     "text": [
      "[[ 0.25427973  0.46895407]\n",
      " [ 0.77978719  0.45356553]]\n"
     ]
    }
   ],
   "source": [
    "print(centers)"
   ]
  },
  {
   "cell_type": "code",
   "execution_count": null,
   "metadata": {
    "collapsed": true
   },
   "outputs": [],
   "source": []
  }
 ],
 "metadata": {
  "anaconda-cloud": {},
  "kernelspec": {
   "display_name": "Python [py36]",
   "language": "python",
   "name": "Python [py36]"
  },
  "language_info": {
   "codemirror_mode": {
    "name": "ipython",
    "version": 3
   },
   "file_extension": ".py",
   "mimetype": "text/x-python",
   "name": "python",
   "nbconvert_exporter": "python",
   "pygments_lexer": "ipython3",
   "version": "3.6.3"
  }
 },
 "nbformat": 4,
 "nbformat_minor": 2
}
